{
 "cells": [
  {
   "cell_type": "code",
   "execution_count": 16,
   "metadata": {},
   "outputs": [],
   "source": [
    "import py_utilitarios.funcoes_01 as funcoes_01\n",
    "import py_utilitarios.funcoes_02 as funcoes_02\n",
    "import py_utilitarios.funcoes_03 as funcoes_03\n",
    "\n",
    "import pandas as pd\n",
    "\n",
    "from time import sleep\n",
    "\n",
    "import os\n",
    "\n",
    "enviar = False"
   ]
  },
  {
   "cell_type": "code",
   "execution_count": null,
   "metadata": {},
   "outputs": [],
   "source": [
    "campanha = 'CAMPANHA NATAL PREMIADO'\n",
    "tempo_decorrido = funcoes_01.calcula_tempo_campanha()\n",
    "\n",
    "print(tempo_decorrido)"
   ]
  },
  {
   "cell_type": "markdown",
   "metadata": {},
   "source": [
    "#### <span style=\"color: red\">**CAMINHO DE ARQUIVOS USADOS**</span>"
   ]
  },
  {
   "cell_type": "markdown",
   "metadata": {},
   "source": [
    "##### **ARQUIVOS EXCEL**"
   ]
  },
  {
   "cell_type": "code",
   "execution_count": 18,
   "metadata": {},
   "outputs": [],
   "source": [
    "arquivo_excel_supervisores_gerentes = os.getcwd() + r'\\arq_auxiliares_automacao' + r'\\DADOS SUPERVISORES.xlsx'"
   ]
  },
  {
   "cell_type": "markdown",
   "metadata": {},
   "source": [
    "##### **ARQUIVOS TXT**"
   ]
  },
  {
   "cell_type": "code",
   "execution_count": 19,
   "metadata": {},
   "outputs": [],
   "source": [
    "pasta_arquivos_txt_email = os.getcwd() + r'\\arq_auxiliares_automacao' + r'\\ARQUIVOS DE TEXTO' + r'\\email'\n",
    "pasta_arquivos_txt_wpp = os.getcwd() + r'\\arq_auxiliares_automacao' + r'\\ARQUIVOS DE TEXTO' + r'\\wpp'\n",
    "\n",
    "caminho_txt_corpo_email_supervisores = pasta_arquivos_txt_email + r'\\corpo email - supervisores.txt'\n",
    "caminho_txt_corpo_email_gerentes = pasta_arquivos_txt_email + r'\\corpo email - gerentes.txt'\n",
    "caminho_txt_corpo_email_diretores = pasta_arquivos_txt_email + r'\\corpo email - diretoria.txt'\n",
    "\n",
    "caminho_txt_msg_wpp_padrao = pasta_arquivos_txt_wpp + r'\\mensagem_padrao.txt'"
   ]
  },
  {
   "cell_type": "markdown",
   "metadata": {},
   "source": [
    "##### **ARQUIVOS PDF e IMG**"
   ]
  },
  {
   "cell_type": "code",
   "execution_count": 37,
   "metadata": {},
   "outputs": [],
   "source": [
    "pasta_arquivos_pdf_prontos = os.getcwd() + r'\\consolidados gerados - para o envio' + r'\\PDFS PRONTOS' + r'\\SEPARADOS'\n",
    "pasta_arquivos_img_prontos = os.getcwd() + r'\\consolidados gerados - para o envio' + r'\\IMGS_RESULTADO'\n",
    "\n",
    "caminho_consolidado_diretoria = pasta_arquivos_pdf_prontos + r'\\CONSOLIDADO - DIRETORIA.pdf'\n",
    "caminho_consolidado_gerentes = os.getcwd() + r'\\consolidados gerados - para o envio' + r'\\PDFS PRONTOS' + r'\\JUNTOS' + r'\\CONSOLIDADO - GERENTE.pdf'"
   ]
  },
  {
   "cell_type": "code",
   "execution_count": null,
   "metadata": {},
   "outputs": [],
   "source": [
    "caminho_consolidado_diretoria"
   ]
  },
  {
   "cell_type": "markdown",
   "metadata": {},
   "source": [
    "### <span style=\"color: red\">**LEITURA DOS DATAFRAMES**</span>"
   ]
  },
  {
   "cell_type": "code",
   "execution_count": null,
   "metadata": {},
   "outputs": [],
   "source": [
    "df_supervisores = pd.read_excel(arquivo_excel_supervisores_gerentes, sheet_name='SUPERVISORES')\n",
    "df_supervisores = df_supervisores[:]\n",
    "df_supervisores.head()"
   ]
  },
  {
   "cell_type": "code",
   "execution_count": null,
   "metadata": {},
   "outputs": [],
   "source": [
    "df_gerentes = pd.read_excel(arquivo_excel_supervisores_gerentes, sheet_name='GERENTES')\n",
    "df_gerentes"
   ]
  },
  {
   "cell_type": "markdown",
   "metadata": {},
   "source": [
    "### <span style= \"color: red;\">**AUTOMAÇÃO EMAIL**"
   ]
  },
  {
   "cell_type": "code",
   "execution_count": 23,
   "metadata": {},
   "outputs": [],
   "source": [
    "funcoes_01.abrir_programa()"
   ]
  },
  {
   "cell_type": "markdown",
   "metadata": {},
   "source": [
    "##### **PARA DIRETORIA**"
   ]
  },
  {
   "cell_type": "code",
   "execution_count": 39,
   "metadata": {},
   "outputs": [],
   "source": [
    "destinatarios = ['murilo.araujo@vasconcelos.ind.br', 'luciano.rodrigues@vasconcelos.ind.br']\n",
    "copias = ['pedro.levi@vasconcelos.ind.br']\n",
    "copias_ocultas = ['valdinei.claudiano@vasconcelos.ind.br']"
   ]
  },
  {
   "cell_type": "code",
   "execution_count": 40,
   "metadata": {},
   "outputs": [],
   "source": [
    "texto_html = funcoes_01.ler_corpo_emails(caminho_txt_corpo_email_diretores)"
   ]
  },
  {
   "cell_type": "code",
   "execution_count": 41,
   "metadata": {},
   "outputs": [],
   "source": [
    "for c in range(1):\n",
    "    assunto = f'RESULTADO PARCIAL {campanha}'\n",
    "    nome_arquivo = 'CONSOLIDADO - DIRETORIA.pdf'\n",
    "\n",
    "\n",
    "    # campo nova mensagem\n",
    "    funcoes_02.escrever_nova_mensagem()\n",
    "\n",
    "\n",
    "    # escrever email do gerente\n",
    "    funcoes_02.escrever_email_do_destinatario(destinatarios)\n",
    "\n",
    "\n",
    "    # escrever os emails em cópia\n",
    "    funcoes_02.escrever_emails_copia(copias)\n",
    "    funcoes_02.escrever_emails_copia_oculta(copias_ocultas)\n",
    "\n",
    "\n",
    "    # escrever o assunto do email\n",
    "    funcoes_02.escrever_assunto(assunto)\n",
    "\n",
    "    \n",
    "    # escrever o corpo do email em html\n",
    "    corpo_email = texto_html.format(tempo_decorrido)\n",
    "    funcoes_02.inserir_texto_html(corpo_email)\n",
    "\n",
    "    \n",
    "    # adicionar o arquivo de resultado da campanha em anexo\n",
    "    funcoes_02.adicionar_anexo(nome_arquivo)\n",
    "\n",
    "    # enviar o email\n",
    "    if enviar:\n",
    "        funcoes_02.enviar_email()\n",
    "    # fechar\\cancelar email\n",
    "    else:\n",
    "        funcoes_02.fechar_janela()"
   ]
  },
  {
   "cell_type": "markdown",
   "metadata": {},
   "source": [
    "##### **PARA GERENTES**"
   ]
  },
  {
   "cell_type": "code",
   "execution_count": 27,
   "metadata": {},
   "outputs": [],
   "source": [
    "texto_html = funcoes_01.ler_corpo_emails(caminho_txt_corpo_email_gerentes)"
   ]
  },
  {
   "cell_type": "code",
   "execution_count": 28,
   "metadata": {},
   "outputs": [],
   "source": [
    "for index in df_gerentes.index:\n",
    "    try:\n",
    "        nome_gerente = df_gerentes.loc[index, 'NOME'].capitalize()\n",
    "    except AttributeError:\n",
    "        nome_gerente = 'Inexistente'\n",
    "        break\n",
    "\n",
    "    area = df_gerentes.loc[index, 'AREA']\n",
    "\n",
    "    email_gerente = df_gerentes.loc[index, 'EMAIL']\n",
    "\n",
    "    assunto = f'RESULTADO PARCIAL {campanha} - {area}'\n",
    "\n",
    "\n",
    "    if email_gerente:\n",
    "        funcoes_01.separar_pdf_area(area, caminho_consolidado_gerentes, pasta_arquivos_pdf_prontos)\n",
    "\n",
    "\n",
    "        # campo nova mensagem\n",
    "        funcoes_02.escrever_nova_mensagem()\n",
    "\n",
    "\n",
    "        # escrever email do gerente\n",
    "        funcoes_02.escrever_email_do_destinatario(email_gerente)\n",
    "\n",
    "\n",
    "        # escrever os emails em cópia\n",
    "        funcoes_02.escrever_emails_copia_oculta()\n",
    "\n",
    "\n",
    "        # escrever o assunto do email\n",
    "        funcoes_02.escrever_assunto(assunto)\n",
    "\n",
    "        \n",
    "        # escrever o corpo do email em html\n",
    "        corpo_email = texto_html.format(nome_gerente, tempo_decorrido)\n",
    "        funcoes_02.inserir_texto_html(corpo_email)\n",
    "\n",
    "        \n",
    "        # adicionar o arquivo de resultado da campanha em anexo\n",
    "        funcoes_02.adicionar_anexo(area)\n",
    "\n",
    "        # enviar o email\n",
    "        if enviar:\n",
    "            funcoes_02.enviar_email()\n",
    "        # fechar\\cancelar email\n",
    "        else:\n",
    "            funcoes_02.fechar_janela()"
   ]
  },
  {
   "cell_type": "markdown",
   "metadata": {},
   "source": [
    "##### **PARA OS SUPERVISORES**"
   ]
  },
  {
   "cell_type": "code",
   "execution_count": 29,
   "metadata": {},
   "outputs": [],
   "source": [
    "texto_html = funcoes_01.ler_corpo_emails(caminho_txt_corpo_email_supervisores)"
   ]
  },
  {
   "cell_type": "code",
   "execution_count": 30,
   "metadata": {},
   "outputs": [],
   "source": [
    "for index in df_supervisores.index:\n",
    "    nome_supervisor = df_supervisores.loc[index, 'NOME']\n",
    "    nome_supervisor = list(map(lambda x: x.capitalize(), nome_supervisor.split('\\n')))\n",
    "    nome_supervisor = ('/').join(nome_supervisor)\n",
    "\n",
    "    email_supervisor = df_supervisores.loc[index, 'EMAIL']\n",
    "    email_supervisor = email_supervisor.split('/')\n",
    "\n",
    "    \n",
    "    regiao = df_supervisores.loc[index, 'REGIAO']\n",
    "    \n",
    "    assunto = f'RESULTADO PARCIAL {campanha} - {regiao}'\n",
    "\n",
    "    # ***** ESCREVER NOVA MENSAGEM ******\n",
    "    funcoes_02.escrever_nova_mensagem()\n",
    "\n",
    "\n",
    "    # ***** ESCREVER O EMAIL DO DESTINATARIO PRINCIPAL *****\n",
    "    funcoes_02.escrever_email_do_destinatario(email_supervisor)\n",
    "\n",
    "\n",
    "    # ****** ESCREVER AS COPIAS DO EMAIL *******\n",
    "    funcoes_02.escrever_emails_copia_oculta()\n",
    "    \n",
    "\n",
    "    # ****** ESCREVER O ASSUNTO DO EMAIL *******\n",
    "    funcoes_02.escrever_assunto(assunto)\n",
    "\n",
    "\n",
    "    # ****** CORPO DO EMAIL -> MENSAGEM HTML ******\n",
    "    corpo_email = texto_html.format(nome_supervisor, tempo_decorrido)\n",
    "    \n",
    "\n",
    "    # ****** TEXTO HTML ******\n",
    "    funcoes_02.inserir_texto_html(corpo_email)            \n",
    "\n",
    "\n",
    "    # ****** ANEXO ******\n",
    "    funcoes_02.adicionar_anexo(regiao)\n",
    "\n",
    "    \n",
    "    # enviar o email\n",
    "    if enviar:\n",
    "        funcoes_02.enviar_email()\n",
    "    # fechar\\cancelar email\n",
    "    else:\n",
    "        funcoes_02.fechar_janela()"
   ]
  },
  {
   "cell_type": "markdown",
   "metadata": {},
   "source": [
    "### <span style=\"color: red;\">**AUTOMAÇÃO WHATSAPP**</span>"
   ]
  },
  {
   "cell_type": "code",
   "execution_count": 31,
   "metadata": {},
   "outputs": [],
   "source": [
    "# from selenium import webdriver\n",
    "# from selenium.webdriver.chrome.service import Service\n",
    "# from webdriver_manager.chrome import ChromeDriverManager\n",
    "# from selenium.webdriver.common.by import By\n",
    "# from selenium.webdriver.common.keys import Keys\n",
    "# from selenium.webdriver import ActionChains\n",
    "\n",
    "# from selenium.common.exceptions import NoSuchElementException, StaleElementReferenceException\n",
    "\n",
    "# chrome_install = ChromeDriverManager().install()\n",
    "\n",
    "# folder = os.path.dirname(chrome_install)\n",
    "# chromedriver_path = os.path.join(folder, \"chromedriver.exe\")\n",
    "\n",
    "# servico = Service(chromedriver_path)\n",
    "\n",
    "# options = webdriver.ChromeOptions()\n",
    "# options.add_argument(r'user-data-dir=C:\\Users\\felipe.monsef\\AppData\\Local\\Google\\Chrome\\User Data\\Profile Selenium')\n",
    "# options.add_argument(\"--log-level=1\")\n",
    "\n",
    "# navegador = webdriver.Chrome(service=servico, options=options)\n",
    "\n",
    "# navegador.get(r'http://web.whatsapp.com')"
   ]
  },
  {
   "cell_type": "code",
   "execution_count": null,
   "metadata": {},
   "outputs": [],
   "source": [
    "text_wpp = funcoes_01.ler_msg_wpp(tempo_decorrido, caminho_txt_msg_wpp_padrao)\n",
    "\n",
    "##### TRANSFORMAR OS PDFS SEPARADOS EM IMAGENS #####\n",
    "funcoes_01.criar_imgs_do_pdf(pasta_arquivos_pdf_prontos, pasta_arquivos_img_prontos)"
   ]
  },
  {
   "cell_type": "code",
   "execution_count": 33,
   "metadata": {},
   "outputs": [],
   "source": [
    "###### AUTOMAÇÃO WPP ######\n",
    "##### INSTANCIAR NAVEGADOR #####\n",
    "navegador = funcoes_03.abrir_navegador()\n",
    "\n",
    "##### ABRIR WPP #####\n",
    "funcoes_03.abrir_site(navegador)"
   ]
  },
  {
   "cell_type": "code",
   "execution_count": null,
   "metadata": {},
   "outputs": [],
   "source": [
    "for index in df_supervisores.index:\n",
    "    regiao = df_supervisores.loc[index, 'REGIAO']\n",
    "\n",
    "    nome_contato = df_supervisores.loc[index, 'NOME_WPP']\n",
    "    nome_contato = nome_contato.split('\\n')\n",
    "\n",
    "\n",
    "    ##### PESQUISAR NOME DO CONTATO\\GRUPO ######\n",
    "    funcoes_03.pesquisar_nome_grupo(navegador, regiao)\n",
    "\n",
    "\n",
    "    #### SELECIONAR IMAGEM ######\n",
    "    funcoes_03.selecionar_img(navegador, regiao, pasta_arquivos_img_prontos)\n",
    "\n",
    "\n",
    "    ##### ENVIAR MSG #######\n",
    "    if enviar:\n",
    "        funcoes_03.enviar_mensagem(navegador)\n",
    "\n",
    "\n",
    "    ##### ESCREVER MENSAGEM #####\n",
    "    funcoes_03.escrever_mensagem(navegador, text_wpp, nome_contato)\n",
    "\n",
    "\n",
    "    ##### ENVIAR MSG #######\n",
    "    if enviar:\n",
    "        funcoes_03.enviar_mensagem(navegador)\n",
    "        \n",
    "\n",
    "sleep(3)"
   ]
  },
  {
   "cell_type": "code",
   "execution_count": 35,
   "metadata": {},
   "outputs": [],
   "source": [
    "navegador.quit()"
   ]
  },
  {
   "cell_type": "code",
   "execution_count": 36,
   "metadata": {},
   "outputs": [],
   "source": [
    "funcoes_01.apagar_imgs(pasta_arquivos_img_prontos)"
   ]
  },
  {
   "cell_type": "markdown",
   "metadata": {},
   "source": [
    "### **EXEMPLO HTML**"
   ]
  },
  {
   "cell_type": "markdown",
   "metadata": {},
   "source": [
    "```<p> Esta frase tem um fundo <span style=\"background-color:#FFFF00; color:black;\">amarelo fluorescente</span>.</p>``` -> background\n",
    "\n",
    "```<p>&#10071;</p>``` -> codigo para adicionar emogi\n",
    "\n",
    "<p> Esta frase tem um fundo <span style=\"background-color:#FFFF00; color:black;\">amarelo fluorescente</span>.</p>"
   ]
  },
  {
   "cell_type": "markdown",
   "metadata": {},
   "source": [
    "<p>Bom dia Felipe,</p>\n",
    "\n",
    "<p>Segue em anexo resultado parcial da Campanha TRIMESTRE PREMIADO.</p>\n",
    "\n",
    "<p><strong><span style=\"background-color:#FFFF00; color:black;\">ATENÇÃO!!, já se passaram {percentagem_tempo_decorrido_campanha}% do tempo</span><span style=\"background-color:#FFFF00; color:red;\">‼️</span></strong></p>\n",
    "\n",
    "Divulgue individualmente para cada representante de sua região e trace as<br>\n",
    "melhores estratégias, pois através do empenho de cada um que você alcançará<br>\n",
    "o objetivo da região.\n",
    "\n",
    "<p></p>\n",
    "\n",
    "<strong><span style=\"background-color:#FFFF00; color:black;\">Os resultados parciais serão divulgados 2x por semana ( seg/qui ) no grupo da região e também<br>por email.</span></strong>\n",
    "\n",
    "\n",
    "<p>Boas vendas!!!</p>\n"
   ]
  }
 ],
 "metadata": {
  "kernelspec": {
   "display_name": "Python 3",
   "language": "python",
   "name": "python3"
  },
  "language_info": {
   "codemirror_mode": {
    "name": "ipython",
    "version": 3
   },
   "file_extension": ".py",
   "mimetype": "text/x-python",
   "name": "python",
   "nbconvert_exporter": "python",
   "pygments_lexer": "ipython3",
   "version": "3.10.4"
  }
 },
 "nbformat": 4,
 "nbformat_minor": 2
}
