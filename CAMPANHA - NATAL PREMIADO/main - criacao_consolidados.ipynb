{
 "cells": [
  {
   "cell_type": "code",
   "execution_count": null,
   "metadata": {},
   "outputs": [],
   "source": [
    "import pandas as pd\n",
    "from time import sleep\n",
    "import os\n",
    "\n",
    "import xlwings as xw\n",
    "\n",
    "# from datetime import datetime\n",
    "\n",
    "# import calendar\n",
    "# import locale"
   ]
  },
  {
   "cell_type": "code",
   "execution_count": null,
   "metadata": {},
   "outputs": [],
   "source": [
    "exportar = True\n",
    "\n",
    "abrir_pdfs = True"
   ]
  },
  {
   "cell_type": "code",
   "execution_count": null,
   "metadata": {},
   "outputs": [],
   "source": [
    "trimestres = {\n",
    "    1: ['janeiro', 'fevereiro', 'março'],\n",
    "    2: ['abril', 'maio', 'junho'],\n",
    "    3: ['julho', 'agosto', 'setembro'],\n",
    "    4: ['outubro', 'novembro', 'dezembro']\n",
    "}\n",
    "\n",
    "nome_campanha = 'NATAL PREMIADO'\n",
    "\n",
    "\n",
    "trimestre_atual = pd.Timestamp.now().quarter\n",
    "meses_do_trimestre_atual = list(map(lambda x: x.upper(), trimestres[trimestre_atual]))\n",
    "meses_do_trimestre_atual"
   ]
  },
  {
   "cell_type": "markdown",
   "metadata": {},
   "source": [
    "#### <span style=\"color: red;\">**ARQUIVOS AUXILIARES**</span>"
   ]
  },
  {
   "cell_type": "code",
   "execution_count": null,
   "metadata": {},
   "outputs": [],
   "source": [
    "caminho = r'D:\\Perfil\\Desktop\\PROJETOS EMPRESA\\NEI\\CAMPANHA\\ARQUIVOS AUXILIARES\\REGIOES.xlsx'\n",
    "df_info_regioes = pd.read_excel(caminho)\n",
    "\n",
    "df_info_regioes.dropna(inplace=True)\n",
    "\n",
    "areas = df_info_regioes['AREA'].unique()\n",
    "\n",
    "print(areas)\n",
    "display(df_info_regioes)"
   ]
  },
  {
   "cell_type": "markdown",
   "metadata": {},
   "source": [
    "##### **METAS**"
   ]
  },
  {
   "cell_type": "code",
   "execution_count": null,
   "metadata": {},
   "outputs": [],
   "source": [
    "df_metas_representates = pd.read_excel(rf'arq_excel\\METAS - CAMPANHA {nome_campanha}.xlsx', sheet_name='METAS-RP', dtype={'COD': str})\n",
    "display(df_metas_representates.head(3))\n",
    "\n",
    "supervisores = df_metas_representates['SUPERVISOR'].unique()\n",
    "print(supervisores)\n",
    "\n",
    "vendedores_com_metas = df_metas_representates['COD'].unique()\n",
    "print(len(vendedores_com_metas))"
   ]
  },
  {
   "cell_type": "code",
   "execution_count": null,
   "metadata": {},
   "outputs": [],
   "source": [
    "df_metas_regioes = pd.read_excel(rf'arq_excel\\METAS - CAMPANHA {nome_campanha}.xlsx', sheet_name='METAS-RG')\n",
    "df_metas_regioes = df_metas_regioes.query('REGIAO != \"RG BAURU\"')\n",
    "display(df_metas_regioes.head(3))\n",
    "\n",
    "\n",
    "regioes = df_metas_regioes['REGIAO'].unique()\n",
    "print(regioes)"
   ]
  },
  {
   "cell_type": "markdown",
   "metadata": {},
   "source": [
    "##### **VENDAS**"
   ]
  },
  {
   "cell_type": "code",
   "execution_count": null,
   "metadata": {},
   "outputs": [],
   "source": [
    "df_vendas = pd.read_csv(r'arq_csv\\Parcial Vendas.csv', decimal=',')\n",
    "\n",
    "df_vendas['CodVendedor'] = df_vendas['CodVendedor'].astype(str)\n",
    "df_vendas['Mês'] = df_vendas['Mês'].apply(lambda x: x.upper())\n",
    "df_vendas['Região'] = df_vendas['Região'].apply(lambda x: x.upper())\n",
    "# df_vendas['QtdVendida'] = df_vendas['QtdVendida'].apply(lambda x: round(x))\n",
    "\n",
    "\n",
    "display(df_vendas.head(3))\n",
    "display(df_vendas['QtdVendida'].sum())\n",
    "\n",
    "meses_com_vendas = df_vendas['Mês'].unique()\n",
    "# print(meses_com_vendas)\n",
    "\n",
    "\n",
    "vendedores_com_resultado = df_vendas['CodVendedor'].unique()\n",
    "# print(vendedores_com_resultado)\n",
    "\n",
    "regioes_com_vendas = list(df_vendas['Região'].unique())\n",
    "# print(regioes_com_vendas)"
   ]
  },
  {
   "cell_type": "code",
   "execution_count": null,
   "metadata": {},
   "outputs": [],
   "source": [
    "display(df_vendas[df_vendas['Região'] == 'RG BH']['QtdVendida'].sum())"
   ]
  },
  {
   "cell_type": "markdown",
   "metadata": {},
   "source": [
    "#### <span style=\"color: red;\">**REGIÃO**</span>"
   ]
  },
  {
   "cell_type": "markdown",
   "metadata": {},
   "source": [
    "##### **VENDAS POR REGIAO**"
   ]
  },
  {
   "cell_type": "code",
   "execution_count": null,
   "metadata": {},
   "outputs": [],
   "source": [
    "df_vendas_por_regiao = df_vendas.loc[:, ('Região', 'Mês', 'QtdVendida')]\n",
    "df_vendas_por_regiao = df_vendas_por_regiao.groupby(['Região', 'Mês'])['QtdVendida'].sum().reset_index()\n",
    "df_vendas_por_regiao = df_vendas_por_regiao.query('Região != \"RG BAURU\"')\n",
    "\n",
    "\n",
    "df_vendas_por_regiao = df_vendas_por_regiao.pivot_table(index='Região', columns='Mês', values='QtdVendida').reset_index()\n",
    "df_vendas_por_regiao.columns.name = None\n",
    "\n",
    "\n",
    "columns = df_vendas_por_regiao.columns\n",
    "\n",
    "\n",
    "for mes in meses_do_trimestre_atual:\n",
    "    if mes not in columns:\n",
    "        df_vendas_por_regiao[mes] = 0\n",
    "\n",
    "\n",
    "df_vendas_por_regiao = df_vendas_por_regiao[['Região'] + meses_do_trimestre_atual]\n",
    "df_vendas_por_regiao.columns = ['Região'] + list(map(lambda x: f'REAL {x}', meses_do_trimestre_atual))\n",
    "\n",
    "display(df_vendas_por_regiao.head(3))"
   ]
  },
  {
   "cell_type": "markdown",
   "metadata": {},
   "source": [
    "##### **CAMPANHA DE REGIAO**"
   ]
  },
  {
   "cell_type": "code",
   "execution_count": null,
   "metadata": {},
   "outputs": [],
   "source": [
    "df_vendas_por_regiao = pd.merge(df_metas_regioes, df_vendas_por_regiao, left_on='REGIAO', right_on='Região', how='left')\n",
    "\n",
    "df_vendas_por_regiao.fillna(0, inplace=True)\n",
    "\n",
    "df_vendas_por_regiao['TOTAL TRI'] = df_vendas_por_regiao[f'REAL {meses_do_trimestre_atual[0]}'] + df_vendas_por_regiao[f'REAL {meses_do_trimestre_atual[1]}'] + df_vendas_por_regiao[f'REAL {meses_do_trimestre_atual[2]}']\n",
    "\n",
    "df_vendas_por_regiao[r'% REAL X META'] = round(df_vendas_por_regiao['TOTAL TRI'] / df_vendas_por_regiao['META TRI'], 2)\n",
    "# df_vendas_por_regiao[r'% REAL X META'] = df_vendas_por_regiao[r'% REAL X META'].apply(lambda x: round(x))\n",
    "\n",
    "df_vendas_por_regiao = pd.merge(df_vendas_por_regiao, df_info_regioes, on='REGIAO', how='left').drop(columns=['SUPERVISOR'])\n",
    "df_vendas_por_regiao.drop('Região', axis=1, inplace=True)\n",
    "\n",
    "display(df_vendas_por_regiao.head(3))"
   ]
  },
  {
   "cell_type": "code",
   "execution_count": null,
   "metadata": {},
   "outputs": [],
   "source": [
    "for area in areas:\n",
    "    df_export = df_vendas_por_regiao[df_vendas_por_regiao['AREA'] == area].reset_index(drop=True)\n",
    "    df_export.drop(columns=['AREA'], inplace=True)\n",
    "\n",
    "    index = len(df_export)\n",
    "\n",
    "    texto = f'TOTAL {area}'\n",
    "    total_meta_tri = df_export['META TRI'].sum()\n",
    "    total_real_mes1 = df_export[f'REAL {meses_do_trimestre_atual[0]}'].sum()\n",
    "    total_real_mes2 = df_export[f'REAL {meses_do_trimestre_atual[1]}'].sum()\n",
    "    total_real_mes3 = df_export[f'REAL {meses_do_trimestre_atual[2]}'].sum()\n",
    "    total_tri = df_export['TOTAL TRI'].sum()\n",
    "    # real_x_meta = df_export['% REAL X META']\n",
    "\n",
    "    df_export.loc[index] = {\n",
    "        'REGIAO': texto, \n",
    "        'META TRI': total_meta_tri, \n",
    "        f'REAL {meses_do_trimestre_atual[0]}': total_real_mes1,\n",
    "        f'REAL {meses_do_trimestre_atual[1]}': total_real_mes2,\n",
    "        f'REAL {meses_do_trimestre_atual[2]}': total_real_mes3,\n",
    "        'TOTAL TRI': total_tri\n",
    "    }\n",
    "\n",
    "    real_x_meta = round((total_tri / total_meta_tri), 2)\n",
    "\n",
    "    df_export.loc[index, '% REAL X META'] = real_x_meta\n",
    "\n",
    "    # df_export['% REAL X META'] = df_export['% REAL X META'].apply(lambda x: round(x))\n",
    "\n",
    "    display(df_export.head(2))\n",
    "\n",
    "    print(total_meta_tri)\n",
    "\n",
    "    if exportar:\n",
    "        df_export.to_excel(fr'D:\\Perfil\\Desktop\\PROJETOS EMPRESA\\NEI\\CAMPANHA\\CAMPANHA - {nome_campanha}\\consolidados gerados - para o envio\\RESULTADO REGIOES\\{area}.xlsx', index=False)"
   ]
  },
  {
   "cell_type": "markdown",
   "metadata": {},
   "source": [
    "#### <span style=\"color: red;\">**REPRESENTANTES**</span>"
   ]
  },
  {
   "cell_type": "markdown",
   "metadata": {},
   "source": [
    "##### **VENDAS POR REPRESENTATES**"
   ]
  },
  {
   "cell_type": "code",
   "execution_count": null,
   "metadata": {},
   "outputs": [],
   "source": [
    "df_vendas_por_representante = df_vendas.loc[:, ('CodVendedor', 'Mês', 'QtdVendida')]\n",
    "df_vendas_por_representante = df_vendas_por_representante.groupby(['CodVendedor', 'Mês'])['QtdVendida'].sum().reset_index()\n",
    "\n",
    "df_vendas_por_representante = df_vendas_por_representante.pivot_table(index='CodVendedor', columns='Mês', values='QtdVendida').reset_index()\n",
    "df_vendas_por_representante.columns.name = None\n",
    "\n",
    "\n",
    "columns = df_vendas_por_representante.columns\n",
    "\n",
    "\n",
    "# df_vendas_por_representante.fillna(0, inplace=True)\n",
    "\n",
    "\n",
    "for mes in meses_do_trimestre_atual:\n",
    "    if mes not in columns:\n",
    "        df_vendas_por_representante[mes] = 0\n",
    "\n",
    "      \n",
    "df_vendas_por_representante = df_vendas_por_representante[['CodVendedor'] + meses_do_trimestre_atual]\n",
    "df_vendas_por_representante.columns = ['CodVendedor'] + list(map(lambda x: f'REAL {x}', meses_do_trimestre_atual))\n",
    "\n",
    "\n",
    "# for real_mes in list(map(lambda x: f'REAL {x}', meses_do_trimestre_atual)):\n",
    "#     df_vendas_por_representante[real_mes] = df_vendas_por_representante[real_mes].apply(lambda x: round(x))\n",
    "\n",
    "display(df_vendas_por_representante.head(2))\n",
    "# df_vendas_por_representante.info()"
   ]
  },
  {
   "cell_type": "markdown",
   "metadata": {},
   "source": [
    "##### **CAMPANHA DE REPRESENTANTES**"
   ]
  },
  {
   "cell_type": "code",
   "execution_count": null,
   "metadata": {},
   "outputs": [],
   "source": [
    "df_vendas_por_representante = pd.merge(df_metas_representates, df_vendas_por_representante, left_on='COD', right_on='CodVendedor', how='left').drop(columns=['CodVendedor'])\n",
    "\n",
    "df_vendas_por_representante.fillna(0, inplace=True)\n",
    "\n",
    "df_vendas_por_representante['TOTAL TRI'] = df_vendas_por_representante[f'REAL {meses_do_trimestre_atual[0]}'] + df_vendas_por_representante[f'REAL {meses_do_trimestre_atual[1]}'] + df_vendas_por_representante[f'REAL {meses_do_trimestre_atual[2]}']\n",
    "\n",
    "df_vendas_por_representante[r'% REAL X META'] = round(df_vendas_por_representante['TOTAL TRI'] / df_vendas_por_representante['META TRI'], 2)\n",
    "# df_vendas_por_representante[r'% REAL X META'] = df_vendas_por_representante[r'% REAL X META'].apply(lambda x: round(x))\n",
    "# df_vendas_por_representante[r'TOTAL TRI'] = df_vendas_por_representante[r'TOTAL TRI'].apply(lambda x: round(x))\n",
    "\n",
    "# for real_mes in list(map(lambda x: f'REAL {x}', meses_do_trimestre_atual)):\n",
    "#     df_vendas_por_representante[real_mes] = df_vendas_por_representante[real_mes].apply(lambda x: round(x))\n",
    "\n",
    "# df_vendas_por_representante[r'% REAL X META'] = df_vendas_por_representante[r'% REAL X META']\n",
    "\n",
    "display(df_vendas_por_representante.head(2))"
   ]
  },
  {
   "cell_type": "code",
   "execution_count": null,
   "metadata": {},
   "outputs": [],
   "source": [
    "for regiao in regioes:\n",
    "    df_export = df_vendas_por_representante[df_vendas_por_representante['REGIAO'] == regiao].reset_index(drop=True)\n",
    "    df_export.drop(columns=['REGIAO'], inplace=True)\n",
    "\n",
    "    supervisor = df_export['SUPERVISOR'][0]\n",
    "    index = len(df_export)\n",
    "\n",
    "    texto = f'TOTAL REPRESENTANTES - SUPERVISOR {supervisor}'\n",
    "    total_meta_tri = df_export['META TRI'].sum()\n",
    "    total_real_mes1 = df_export[f'REAL {meses_do_trimestre_atual[0]}'].sum()\n",
    "    total_real_mes2 = df_export[f'REAL {meses_do_trimestre_atual[1]}'].sum()\n",
    "    total_real_mes3 = df_export[f'REAL {meses_do_trimestre_atual[2]}'].sum()\n",
    "    total_tri = df_export['TOTAL TRI'].sum()\n",
    "\n",
    "    df_export.loc[index] = {\n",
    "        'SUPERVISOR': texto, \n",
    "        'META TRI': total_meta_tri, \n",
    "        f'REAL {meses_do_trimestre_atual[0]}': total_real_mes1,\n",
    "        f'REAL {meses_do_trimestre_atual[1]}': total_real_mes2,\n",
    "        f'REAL {meses_do_trimestre_atual[2]}': total_real_mes3,\n",
    "        'TOTAL TRI': total_tri\n",
    "    }\n",
    "\n",
    "    real_x_meta = round((total_tri / total_meta_tri), 2)\n",
    "\n",
    "    df_export.loc[index, '% REAL X META'] = real_x_meta\n",
    "\n",
    "\n",
    "\n",
    "    ####### ULTIMA LINHA #######\n",
    "\n",
    "    df_valores_por_regiao = df_vendas_por_regiao[df_vendas_por_regiao['REGIAO'] == regiao]\n",
    "\n",
    "    texto = 'TOTAIS DA REGIÃO'\n",
    "    total_meta_tri = df_valores_por_regiao['META TRI'].values[0]\n",
    "    total_real_mes1 = df_valores_por_regiao[f'REAL {meses_do_trimestre_atual[0]}'].values[0]\n",
    "    total_real_mes2 = df_valores_por_regiao[f'REAL {meses_do_trimestre_atual[1]}'].values[0]\n",
    "    total_real_mes3 = df_valores_por_regiao[f'REAL {meses_do_trimestre_atual[2]}'].values[0]\n",
    "    total_tri = df_valores_por_regiao['TOTAL TRI'].values[0]\n",
    "    real_x_meta = df_valores_por_regiao['% REAL X META'].values[0]\n",
    "\n",
    "\n",
    "\n",
    "    df_export.loc[index + 1] = {\n",
    "        'SUPERVISOR': texto,\n",
    "        'PRAÇA': regiao,\n",
    "        'META TRI': total_meta_tri, \n",
    "        f'REAL {meses_do_trimestre_atual[0]}': total_real_mes1,\n",
    "        f'REAL {meses_do_trimestre_atual[1]}': total_real_mes2,\n",
    "        f'REAL {meses_do_trimestre_atual[2]}': total_real_mes3,\n",
    "        'TOTAL TRI': total_tri,\n",
    "        '% REAL X META': real_x_meta\n",
    "}\n",
    "\n",
    "\n",
    "    df_export = df_export.rename(columns={\n",
    "        'META TRI': 'META\\nTRI',\n",
    "        f'REAL {meses_do_trimestre_atual[0]}': f'REAL\\n{meses_do_trimestre_atual[0]}',\n",
    "        f'REAL {meses_do_trimestre_atual[1]}': f'REAL\\n{meses_do_trimestre_atual[1]}',\n",
    "        f'REAL {meses_do_trimestre_atual[2]}': f'REAL\\n{meses_do_trimestre_atual[2]}',\n",
    "        'TOTAL TRI': 'TOTAL\\nTRI',\n",
    "        '% REAL X META': '% REAL X\\nMETA'\n",
    "})   \n",
    "\n",
    "\n",
    "    # df_export['% REAL X\\nMETA'] = df_export['% REAL X\\nMETA'].apply(lambda x: round(x))\n",
    "\n",
    "\n",
    "    display(df_export.head(1))\n",
    "\n",
    "    if exportar:\n",
    "        df_export.to_excel(fr'D:\\Perfil\\Desktop\\PROJETOS EMPRESA\\NEI\\CAMPANHA\\CAMPANHA - {nome_campanha}\\consolidados gerados - para o envio\\RESULTADO REPRESENTANTES\\EXCEL NAO FORMATADO\\{regiao}.xlsx', index=False)\n",
    "        sleep(2)"
   ]
  },
  {
   "cell_type": "markdown",
   "metadata": {},
   "source": [
    "### <span style=\"color: red;\">**OPENPYXL**</span>"
   ]
  },
  {
   "cell_type": "code",
   "execution_count": null,
   "metadata": {},
   "outputs": [],
   "source": [
    "from openpyxl import Workbook, load_workbook\n",
    "from openpyxl.utils import get_column_letter\n",
    "from openpyxl.utils.dataframe import dataframe_to_rows\n",
    "# from openpyxl.worksheet.page import PageSetup\n",
    "from openpyxl.worksheet.page import PageMargins\n",
    "\n",
    "from openpyxl.styles import PatternFill, Border, Side, Alignment, Font, NamedStyle"
   ]
  },
  {
   "cell_type": "markdown",
   "metadata": {},
   "source": [
    "#### **CONSOLIDADO POR REPRESENTANTE -> PARA OS SUPERVISORES**"
   ]
  },
  {
   "cell_type": "code",
   "execution_count": null,
   "metadata": {},
   "outputs": [],
   "source": [
    "caminho = rf'D:\\Perfil\\Desktop\\PROJETOS EMPRESA\\NEI\\CAMPANHA\\CAMPANHA - {nome_campanha}\\consolidados gerados - para o envio\\RESULTADO REPRESENTANTES\\EXCEL NAO FORMATADO'\n",
    "arquivos_excel = list(map(lambda x: (\"\\\\\").join([caminho, x]), os.listdir(caminho)))\n",
    "\n",
    "# display(arquivos_excel)"
   ]
  },
  {
   "cell_type": "code",
   "execution_count": null,
   "metadata": {},
   "outputs": [],
   "source": [
    "cabecalho_planilha = f'CAMPANHA {nome_campanha} REPRESENTANTES - ARROZ - LINHA PREMIUM'"
   ]
  },
  {
   "cell_type": "code",
   "execution_count": null,
   "metadata": {},
   "outputs": [],
   "source": [
    "# MODELO\n",
    "file = rf'D:\\Perfil\\Desktop\\PROJETOS EMPRESA\\NEI\\CAMPANHA\\CAMPANHA - {nome_campanha}\\arq_excel\\MODELO - RESULTADO REPRESENTANTES.xlsx'\n",
    "\n",
    "wb_modelo = load_workbook(file)\n",
    "ws_modelo = wb_modelo.active"
   ]
  },
  {
   "cell_type": "code",
   "execution_count": null,
   "metadata": {},
   "outputs": [],
   "source": [
    "thin_border = Border(left=Side(style='thin'),\n",
    "                     right=Side(style='thin'),\n",
    "                     top=Side(style='thin'),\n",
    "                     bottom=Side(style='thin'))\n",
    "\n",
    "gray_fill = PatternFill(start_color=\"E7E6E6\", end_color=\"E7E6E6\", fill_type=\"solid\")\n",
    "\n",
    "yellow_fill = PatternFill(start_color=\"FFFF00\", end_color=\"FFFF00\", fill_type=\"solid\")\n",
    "\n",
    "custom_number_format = NamedStyle(name=\"custom_number\")\n",
    "custom_number_format.number_format = '_-* #,##0_-;-* #,##0_-;_-* \"-\"??_-;_-@_-'\n",
    "\n",
    "custom_percent_format = NamedStyle(name=\"custom_percent\")\n",
    "custom_percent_format.number_format = \"0%\""
   ]
  },
  {
   "cell_type": "markdown",
   "metadata": {},
   "source": [
    "##### **MAIN**"
   ]
  },
  {
   "cell_type": "code",
   "execution_count": null,
   "metadata": {},
   "outputs": [],
   "source": [
    "for arquivo in arquivos_excel:\n",
    "    # CARREGANDO O ARQUIVO PRONTO\n",
    "    wb_loaded = load_workbook(arquivo)\n",
    "    ws_loaded = wb_loaded.active\n",
    "\n",
    "\n",
    "    # CRIANDO UM NOVO ARQUIVO\n",
    "    wb_new = Workbook()\n",
    "    ws_new = wb_new.active\n",
    "\n",
    "\n",
    "    # CABECALHO\n",
    "    ws_new['A1'] = cabecalho_planilha\n",
    "\n",
    "    # ADICIONANDO OS VALORES\n",
    "    for row in ws_loaded.rows:\n",
    "\n",
    "        for cell in row:\n",
    "            numero_linha = cell.row\n",
    "            letra_coluna = cell.column_letter\n",
    "            valor = cell.value\n",
    "\n",
    "            if numero_linha == 1:\n",
    "\n",
    "                if letra_coluna in ['A', 'B', 'C', 'D']:\n",
    "                    ws_new[f'{letra_coluna}4'] = valor\n",
    "\n",
    "                elif letra_coluna in ['E', 'F', 'G', 'H']:\n",
    "                    ws_new[f'{letra_coluna}3'] = valor\n",
    "                    # ws_new[f'{letra_coluna}3'].alignment = Alignment(wrap_text=True, horizontal='center', vertical='center')\n",
    "                \n",
    "                else:\n",
    "                    colunas_restantes = {'I': 'J', 'J': 'K'}\n",
    "                    ws_new[f'{colunas_restantes[letra_coluna]}3'] = valor\n",
    "                    # ws_new[f'{colunas_restantes[letra_coluna]}3'].alignment = Alignment(wrap_text=True, horizontal='center', vertical='center')\n",
    "            \n",
    "            else:\n",
    "\n",
    "                if letra_coluna not in ['I', 'J']:\n",
    "                    numero_linha += 3\n",
    "                    ws_new[f'{letra_coluna}{numero_linha}'] = valor\n",
    "                \n",
    "                else:\n",
    "                    colunas_restantes = {'I': 'J', 'J': 'K'}\n",
    "                    numero_linha += 3\n",
    "                    ws_new[f'{colunas_restantes[letra_coluna]}{numero_linha}'] = valor\n",
    "\n",
    "    ultima_linha = ws_new.max_row\n",
    "    penultima_linha = ultima_linha - 1\n",
    "\n",
    "    column_letters = [get_column_letter(num_col) for num_col in range(1, ultima_linha + 1)]\n",
    "\n",
    "\n",
    "\n",
    "\n",
    "    # ADICIONANDO FORMTAÇÃO\n",
    "    ws_new.merge_cells('A1:K1')\n",
    "    ws_new.merge_cells(f'A{penultima_linha}:D{penultima_linha}')\n",
    "    ws_new.merge_cells(f'A{ultima_linha}:C{ultima_linha}')\n",
    "\n",
    "\n",
    "    # FORMATAÇÃO DAS MERGEDCELLS\n",
    "    # cabeçalho\n",
    "    for cell in ws_new['A1:K1'][0]:\n",
    "        cell.border = thin_border\n",
    "        cell.font = Font(name = 'Courier New', bold = True, size = 22)\n",
    "\n",
    "\n",
    "    for cell in ws_new[f'A{penultima_linha}:D{penultima_linha}'][0]:\n",
    "        cell.border = thin_border\n",
    "        cell.font = Font(name = 'Courier New', bold = True, size = 10)\n",
    "        cell.alignment = Alignment(horizontal='center', vertical='center')\n",
    "\n",
    "\n",
    "    for cell in ws_new[f'A{ultima_linha}:C{ultima_linha}'][0]:\n",
    "        cell.border = thin_border\n",
    "        cell.font = Font(name = 'Courier New', bold = True, size = 10)\n",
    "        cell.alignment = Alignment(horizontal='center', vertical='center')\n",
    "\n",
    "\n",
    "\n",
    "    for row in ws_new:\n",
    "        for cell in row:\n",
    "            numero_linha = cell.row\n",
    "            # TRATANDO AS MERGEDCELLS\n",
    "            try:\n",
    "                letra_coluna = cell.column_letter\n",
    "            except AttributeError:\n",
    "                # cell.border = thin_border\n",
    "                continue\n",
    "            \n",
    "            \n",
    "            coluna_linha = f'{letra_coluna}{numero_linha}'\n",
    "            valor = cell.value\n",
    "\n",
    "\n",
    "            if type(valor) in (int, float):\n",
    "                if letra_coluna != 'K':\n",
    "                    cell.style = custom_number_format\n",
    "                elif letra_coluna == 'K':\n",
    "                    cell.style = custom_percent_format\n",
    "\n",
    "\n",
    "            cell.fill = gray_fill\n",
    "            cell.border = thin_border\n",
    "            \n",
    "\n",
    "            if numero_linha > 1:\n",
    "                cell.font = Font(name = 'Courier New', bold = True, size = 10)\n",
    "                \n",
    "                \n",
    "                if (valor == None):\n",
    "                    cell.fill = PatternFill()\n",
    "                    \n",
    "                    if (numero_linha == 4) and (letra_coluna != 'I'):\n",
    "                        cell.border = thin_border\n",
    "                    else:  \n",
    "                        cell.border = Border()\n",
    "                        \n",
    "                \n",
    "                else:\n",
    "\n",
    "                    if (4 < numero_linha < penultima_linha):\n",
    "                        cell.fill = PatternFill()\n",
    "                        cell.font = Font(name = 'Courier New', bold = False, size = 10)\n",
    "\n",
    "                        if letra_coluna == 'E':\n",
    "                            cell.fill = yellow_fill\n",
    "\n",
    "                        elif letra_coluna == 'B':\n",
    "                            cell.value = int(valor)\n",
    "                            cell.alignment = Alignment(horizontal='center', vertical='center')\n",
    "\n",
    "\n",
    "                    else:\n",
    "                        cell.fill = gray_fill\n",
    "\n",
    "                if numero_linha == 3:\n",
    "                    cell.alignment = Alignment(wrap_text=True, horizontal='center', vertical='center')\n",
    "\n",
    "\n",
    "    for letter in column_letters:\n",
    "        ws_new.column_dimensions[letter].width = ws_modelo.column_dimensions[letter].width\n",
    "\n",
    "\n",
    "    ws_new.row_dimensions[3].height = ws_modelo.row_dimensions[3].height\n",
    "\n",
    "    ws_new.page_setup.orientation = 'landscape'\n",
    "    ws_new.page_setup.paperSize = ws_new.PAPERSIZE_LETTER\n",
    "\n",
    "    ws_new.page_margins = PageMargins(left=0.8, right=0.0, top=1.0, bottom=1.0, header=0.0, footer=0.0)\n",
    "\n",
    "    ws_new.page_setup.scale = 74\n",
    "\n",
    "    # ws_new.print_area = 'A1:D10'\n",
    "\n",
    "    arquivo = arquivo.replace('EXCEL NAO FORMATADO', 'EXCEL FORMATADO')\n",
    "    wb_new.save(arquivo)"
   ]
  },
  {
   "cell_type": "markdown",
   "metadata": {},
   "source": [
    "#### **TESTE**"
   ]
  },
  {
   "cell_type": "code",
   "execution_count": null,
   "metadata": {},
   "outputs": [],
   "source": [
    "# MODELO\n",
    "\n",
    "# file = r'D:\\Perfil\\Desktop\\PROJETOS EMPRESA\\NEI\\CAMPANHA\\TESTE\\arq_excel\\MODELO - RESULTADO REPRESENTANTES.xlsx'\n",
    "\n",
    "# wb_modelo = load_workbook(file)\n",
    "# ws_modelo = wb_modelo.active"
   ]
  },
  {
   "cell_type": "code",
   "execution_count": null,
   "metadata": {},
   "outputs": [],
   "source": [
    "# thin_border = Border(left=Side(style='thin'),\n",
    "#                      right=Side(style='thin'),\n",
    "#                      top=Side(style='thin'),\n",
    "#                      bottom=Side(style='thin'))\n",
    "\n",
    "# gray_fill = PatternFill(start_color=\"E7E6E6\", end_color=\"E7E6E6\", fill_type=\"solid\")\n",
    "\n",
    "# yellow_fill = PatternFill(start_color=\"FFFF00\", end_color=\"FFFF00\", fill_type=\"solid\")\n",
    "\n",
    "# custom_number_format = NamedStyle(name=\"custom_number\")\n",
    "# custom_number_format.number_format = '_-* #,##0_-;-* #,##0_-;_-* \"-\"??_-;_-@_-'"
   ]
  },
  {
   "cell_type": "code",
   "execution_count": null,
   "metadata": {},
   "outputs": [],
   "source": [
    "# ws_new.merge_cells('A1:K1')\n",
    "# ws_new.merge_cells(f'A{penultima_linha}:D{penultima_linha}')\n",
    "# ws_new.merge_cells(f'A{ultima_linha}:C{ultima_linha}')\n",
    "\n",
    "# # FORMATAÇÃO DAS MERGEDCELLS\n",
    "# # cabeçalho\n",
    "# for cell in ws_new['A1:K1'][0]:\n",
    "#     cell.border = thin_border\n",
    "#     cell.font = Font(name = 'Courier New', bold = True, size = 22)\n",
    "\n",
    "\n",
    "# for cell in ws_new[f'A{penultima_linha}:D{penultima_linha}'][0]:\n",
    "#     cell.border = thin_border\n",
    "#     cell.font = Font(name = 'Courier New', bold = True, size = 10)\n",
    "#     cell.alignment = Alignment(horizontal='center', vertical='center')\n",
    "\n",
    "# for cell in ws_new[f'A{ultima_linha}:C{ultima_linha}'][0]:\n",
    "#     cell.border = thin_border\n",
    "#     cell.font = Font(name = 'Courier New', bold = True, size = 10)\n",
    "#     cell.alignment = Alignment(horizontal='center', vertical='center')\n",
    "\n",
    "\n",
    "\n",
    "# for row in ws_new:\n",
    "#     for cell in row:\n",
    "#         numero_linha = cell.row\n",
    "#         # TRATANDO AS MERGEDCELLS\n",
    "#         try:\n",
    "#             letra_coluna = cell.column_letter\n",
    "#         except AttributeError:\n",
    "#             # cell.border = thin_border\n",
    "#             continue\n",
    "        \n",
    "        \n",
    "#         coluna_linha = f'{letra_coluna}{numero_linha}'\n",
    "#         valor = cell.value\n",
    "\n",
    "\n",
    "#         if type(valor) == int:\n",
    "#             cell.style = custom_number_format\n",
    "#             # print(valor)\n",
    "\n",
    "\n",
    "#         cell.fill = gray_fill\n",
    "#         cell.border = thin_border\n",
    "        \n",
    "\n",
    "#         if numero_linha > 1:\n",
    "#             cell.font = Font(name = 'Courier New', bold = True, size = 10)\n",
    "            \n",
    "            \n",
    "#             if (valor == None):\n",
    "#                 cell.fill = PatternFill()\n",
    "                \n",
    "#                 if (numero_linha == 4) and (letra_coluna != 'I'):\n",
    "#                     cell.border = thin_border\n",
    "#                 else:  \n",
    "#                     cell.border = Border()\n",
    "                    \n",
    "            \n",
    "#             else:\n",
    "\n",
    "#                 if (4 < numero_linha < penultima_linha):\n",
    "#                     cell.fill = PatternFill()\n",
    "#                     cell.font = Font(name = 'Courier New', bold = False, size = 10)\n",
    "\n",
    "#                     if letra_coluna == 'E':\n",
    "#                         cell.fill = yellow_fill\n",
    "\n",
    "\n",
    "#                 else:\n",
    "#                     cell.fill = gray_fill\n",
    "\n",
    "#             if numero_linha == 3:\n",
    "#                 cell.alignment = Alignment(wrap_text=True, horizontal='center', vertical='center')"
   ]
  },
  {
   "cell_type": "code",
   "execution_count": null,
   "metadata": {},
   "outputs": [],
   "source": [
    "# for letter in column_letters:\n",
    "#     ws_new.column_dimensions[letter].width = ws_modelo.column_dimensions[letter].width\n",
    "\n",
    "\n",
    "# ws_new.row_dimensions[3].height = ws_modelo.row_dimensions[3].height"
   ]
  },
  {
   "cell_type": "code",
   "execution_count": null,
   "metadata": {},
   "outputs": [],
   "source": [
    "# ws_new.merge_cells(start_row=1, start_column=1, end_row=1, end_column=11)\n",
    "# ws_new.merge_cells(f'A{penultima_linha}:D{penultima_linha}')\n",
    "# ws_new.merge_cells(f'A{ultima_linha}:C{ultima_linha}')"
   ]
  },
  {
   "cell_type": "code",
   "execution_count": null,
   "metadata": {},
   "outputs": [],
   "source": [
    "# wb_new.save('TESTE.xlsx')\n",
    "\n",
    "# os.startfile('TESTE.xlsx')"
   ]
  },
  {
   "cell_type": "markdown",
   "metadata": {},
   "source": [
    "### <span style=\"color: red;\">**TRANSFORMANDO OS ARQUIVOS EM PDF**</span>"
   ]
  },
  {
   "cell_type": "markdown",
   "metadata": {},
   "source": [
    "##### **SALVANDO AS ATUALIZAÇÕES DO CONSOLIDADO DE GERENTES E DIRETORES ANTES DE TRASNFORMAR EM PDF**"
   ]
  },
  {
   "cell_type": "code",
   "execution_count": null,
   "metadata": {},
   "outputs": [],
   "source": [
    "file_path = os.getcwd() + r'\\consolidados gerados - para o envio\\RESULTADO PARCIAL - AREA - REGIAO.xlsx'\n",
    "\n",
    "# Abre o Excel invisivelmente e atualiza os links\n",
    "with xw.App(visible=True) as app:\n",
    "    # Abre a pasta de trabalho\n",
    "    wb = app.books.open(file_path)\n",
    "\n",
    "    # Atualiza todos os links\n",
    "    wb.api.UpdateLink(Name=wb.fullname, Type=1)  # Type=1 é para links de arquivos externos\n",
    "\n",
    "    # Salva as alterações\n",
    "    wb.save()\n",
    "\n",
    "    # Fecha a pasta de trabalho\n",
    "    wb.close()"
   ]
  },
  {
   "cell_type": "markdown",
   "metadata": {},
   "source": [
    "##### **PARCIAL PARA OS SUPERVISORES**"
   ]
  },
  {
   "cell_type": "code",
   "execution_count": null,
   "metadata": {},
   "outputs": [],
   "source": [
    "arquivos_excel = os.listdir(rF'D:\\Perfil\\Desktop\\PROJETOS EMPRESA\\NEI\\CAMPANHA\\CAMPANHA - {nome_campanha}\\consolidados gerados - para o envio\\RESULTADO REPRESENTANTES\\EXCEL FORMATADO')\n",
    "\n",
    "# print(arquivos_excel)\n",
    "\n",
    "for nome_arquivo_xlsx in arquivos_excel:\n",
    "    nome_arquivo_pdf = nome_arquivo_xlsx.removesuffix('.xlsx')\n",
    "\n",
    "\n",
    "    # Defina o caminho do arquivo XLSX recebido e o caminho de saída para o PDF\n",
    "    caminho_xlsx = os.getcwd() + '\\consolidados gerados - para o envio\\RESULTADO REPRESENTANTES\\EXCEL FORMATADO' + fr'\\{nome_arquivo_xlsx}'\n",
    "    caminho_pdf = os.getcwd() + '\\consolidados gerados - para o envio\\PDFS PRONTOS\\SEPARADOS' + fr'\\{nome_arquivo_pdf} PARCIAL.pdf'\n",
    "\n",
    "\n",
    "    # Abre o Excel e o arquivo\n",
    "    app = xw.App(visible=False)  # Mantém o Excel oculto durante o processo\n",
    "    wb = app.books.open(caminho_xlsx)\n",
    "\n",
    "    wb.to_pdf(caminho_pdf)\n",
    "\n",
    "    wb.close()\n",
    "    app.quit()"
   ]
  },
  {
   "cell_type": "markdown",
   "metadata": {},
   "source": [
    "##### **PARCIAL PARA OS GERENTES**"
   ]
  },
  {
   "cell_type": "code",
   "execution_count": null,
   "metadata": {},
   "outputs": [],
   "source": [
    "caminho_xlsx = os.getcwd() + r'\\consolidados gerados - para o envio\\RESULTADO PARCIAL - AREA - REGIAO.xlsx'\n",
    "caminho_pdf = os.getcwd() + r'\\consolidados gerados - para o envio\\PDFS PRONTOS\\JUNTOS\\CONSOLIDADO - GERENTE.pdf'\n",
    "\n",
    "\n",
    "app = xw.App(visible=False)\n",
    "wb = app.books.open(caminho_xlsx)\n",
    "\n",
    "ws = wb.sheets['REGIOES - GERENTES']\n",
    "\n",
    "ws.to_pdf(caminho_pdf)\n",
    "\n",
    "wb.close()\n",
    "app.quit()\n",
    "\n",
    "if abrir_pdfs:\n",
    "    os.startfile(caminho_pdf)"
   ]
  },
  {
   "cell_type": "markdown",
   "metadata": {},
   "source": [
    "##### **PARCIAL PARA DIRETORIA**"
   ]
  },
  {
   "cell_type": "code",
   "execution_count": null,
   "metadata": {},
   "outputs": [],
   "source": [
    "caminho_xlsx = os.getcwd() + r'\\consolidados gerados - para o envio\\RESULTADO PARCIAL - AREA - REGIAO.xlsx'\n",
    "caminho_pdf = os.getcwd() + r'\\consolidados gerados - para o envio\\PDFS PRONTOS\\SEPARADOS\\CONSOLIDADO - DIRETORIA.pdf'\n",
    "\n",
    "\n",
    "app = xw.App(visible=False)\n",
    "wb = app.books.open(caminho_xlsx)\n",
    "\n",
    "ws = wb.sheets['AREAS - DIRETORIA']\n",
    "\n",
    "ws.to_pdf(caminho_pdf)\n",
    "\n",
    "wb.close()\n",
    "app.quit()\n",
    "\n",
    "if abrir_pdfs:\n",
    "    os.startfile(caminho_pdf)"
   ]
  }
 ],
 "metadata": {
  "kernelspec": {
   "display_name": "Python 3",
   "language": "python",
   "name": "python3"
  },
  "language_info": {
   "codemirror_mode": {
    "name": "ipython",
    "version": 3
   },
   "file_extension": ".py",
   "mimetype": "text/x-python",
   "name": "python",
   "nbconvert_exporter": "python",
   "pygments_lexer": "ipython3",
   "version": "3.10.4"
  }
 },
 "nbformat": 4,
 "nbformat_minor": 2
}
