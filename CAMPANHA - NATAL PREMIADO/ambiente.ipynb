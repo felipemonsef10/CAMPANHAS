{
 "cells": [
  {
   "cell_type": "markdown",
   "metadata": {},
   "source": [
    "#### **Verifica se o cod vendedor ainda está ativo**"
   ]
  },
  {
   "cell_type": "code",
   "execution_count": 63,
   "metadata": {},
   "outputs": [
    {
     "data": {
      "text/html": [
       "<div>\n",
       "<style scoped>\n",
       "    .dataframe tbody tr th:only-of-type {\n",
       "        vertical-align: middle;\n",
       "    }\n",
       "\n",
       "    .dataframe tbody tr th {\n",
       "        vertical-align: top;\n",
       "    }\n",
       "\n",
       "    .dataframe thead th {\n",
       "        text-align: right;\n",
       "    }\n",
       "</style>\n",
       "<table border=\"1\" class=\"dataframe\">\n",
       "  <thead>\n",
       "    <tr style=\"text-align: right;\">\n",
       "      <th></th>\n",
       "      <th>COD</th>\n",
       "      <th>NOME REPRESENTANTE</th>\n",
       "    </tr>\n",
       "  </thead>\n",
       "  <tbody>\n",
       "    <tr>\n",
       "      <th>68</th>\n",
       "      <td>152</td>\n",
       "      <td>EDSON FRANCISCO ROTA 2</td>\n",
       "    </tr>\n",
       "  </tbody>\n",
       "</table>\n",
       "</div>"
      ],
      "text/plain": [
       "    COD      NOME REPRESENTANTE\n",
       "68  152  EDSON FRANCISCO ROTA 2"
      ]
     },
     "metadata": {},
     "output_type": "display_data"
    }
   ],
   "source": [
    "import pandas as pd\n",
    "import os\n",
    "import time\n",
    "\n",
    "nome_campanha = 'CAMPANHA AQUECENDO AS VENDAS'\n",
    "\n",
    "arquivo_rep_da_campanha = rf'D:\\Perfil\\Desktop\\PROJETOS EMPRESA\\NEI\\CAMPANHA\\CAMPANHA - AQUECENDO VENDAS\\arq_excel\\METAS - {nome_campanha}.xlsx'\n",
    "arquivo_rep_da_campanha = rf'D:\\Perfil\\Desktop\\PROJETOS EMPRESA\\NEI\\CAMPANHA\\CAMPANHA - AQUECENDO VENDAS\\arq_excel\\METAS - {nome_campanha}.xlsx'\n",
    "\n",
    "pasta_rep_ativos = r'D:\\Perfil\\Desktop\\PROJETOS EMPRESA\\REPRESENTANTES ATIVOS'\n",
    "\n",
    "arquivos = os.listdir(pasta_rep_ativos)\n",
    "arquivos = [os.path.join(pasta_rep_ativos, arquivo) for arquivo in arquivos if os.path.isfile(os.path.join(pasta_rep_ativos, arquivo))]\n",
    "\n",
    "arquivos_ordenados = sorted(arquivos, key=lambda file: os.path.getmtime(file), reverse=True)\n",
    "path_ult_arquivo = arquivos_ordenados[0]\n",
    "\n",
    "\n",
    "\n",
    "df_metas_representantes = pd.read_excel(arquivo_rep_da_campanha, sheet_name='METAS-RP', usecols=['COD', 'NOME REPRESENTANTE'])\n",
    "cod_rep_meta = df_metas_representantes['COD'].unique()\n",
    "\n",
    "df_rep_ativos = pd.read_excel(path_ult_arquivo, usecols=['COD. SIST', 'NOME REPRESENTANTE'])\n",
    "cod_rep_ativos = df_rep_ativos['COD. SIST'].unique()\n",
    "\n",
    "\n",
    "for cod_rep in cod_rep_meta:\n",
    "    if cod_rep not in cod_rep_ativos:\n",
    "        display(df_metas_representantes.loc[df_metas_representantes['COD'] == cod_rep])"
   ]
  }
 ],
 "metadata": {
  "kernelspec": {
   "display_name": "Python 3",
   "language": "python",
   "name": "python3"
  },
  "language_info": {
   "codemirror_mode": {
    "name": "ipython",
    "version": 3
   },
   "file_extension": ".py",
   "mimetype": "text/x-python",
   "name": "python",
   "nbconvert_exporter": "python",
   "pygments_lexer": "ipython3",
   "version": "3.10.4"
  }
 },
 "nbformat": 4,
 "nbformat_minor": 2
}
